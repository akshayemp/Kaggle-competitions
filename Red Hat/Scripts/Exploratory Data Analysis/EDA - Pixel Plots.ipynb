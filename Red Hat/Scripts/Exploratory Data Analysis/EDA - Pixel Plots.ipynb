{
 "cells": [
  {
   "cell_type": "markdown",
   "metadata": {},
   "source": [
    "### Pixel Plots"
   ]
  },
  {
   "cell_type": "code",
   "execution_count": 28,
   "metadata": {
    "collapsed": true
   },
   "outputs": [],
   "source": [
    "import pandas as pd\n",
    "import numpy as np\n",
    "from scipy.sparse import csr_matrix\n",
    "from scipy.misc import imsave"
   ]
  },
  {
   "cell_type": "code",
   "execution_count": 29,
   "metadata": {
    "collapsed": false
   },
   "outputs": [
    {
     "data": {
      "text/html": [
       "<div>\n",
       "<table border=\"1\" class=\"dataframe\">\n",
       "  <thead>\n",
       "    <tr style=\"text-align: right;\">\n",
       "      <th></th>\n",
       "      <th>people_id</th>\n",
       "      <th>group_1</th>\n",
       "    </tr>\n",
       "  </thead>\n",
       "  <tbody>\n",
       "    <tr>\n",
       "      <th>0</th>\n",
       "      <td>ppl_100</td>\n",
       "      <td>group 17304</td>\n",
       "    </tr>\n",
       "    <tr>\n",
       "      <th>1</th>\n",
       "      <td>ppl_100002</td>\n",
       "      <td>group 8688</td>\n",
       "    </tr>\n",
       "    <tr>\n",
       "      <th>2</th>\n",
       "      <td>ppl_100003</td>\n",
       "      <td>group 33592</td>\n",
       "    </tr>\n",
       "    <tr>\n",
       "      <th>3</th>\n",
       "      <td>ppl_100004</td>\n",
       "      <td>group 22593</td>\n",
       "    </tr>\n",
       "    <tr>\n",
       "      <th>4</th>\n",
       "      <td>ppl_100006</td>\n",
       "      <td>group 6534</td>\n",
       "    </tr>\n",
       "  </tbody>\n",
       "</table>\n",
       "</div>"
      ],
      "text/plain": [
       "    people_id      group_1\n",
       "0     ppl_100  group 17304\n",
       "1  ppl_100002   group 8688\n",
       "2  ppl_100003  group 33592\n",
       "3  ppl_100004  group 22593\n",
       "4  ppl_100006   group 6534"
      ]
     },
     "execution_count": 29,
     "metadata": {},
     "output_type": "execute_result"
    }
   ],
   "source": [
    "people = pd.read_csv(\"../../../../Kaggle Data/Red Hat/Data/people.csv\",\n",
    "                     usecols=['people_id','group_1'])\n",
    "people.head()"
   ]
  },
  {
   "cell_type": "code",
   "execution_count": 30,
   "metadata": {
    "collapsed": false
   },
   "outputs": [
    {
     "data": {
      "text/plain": [
       "0    17304\n",
       "1     8688\n",
       "2    33592\n",
       "3    22593\n",
       "4     6534\n",
       "Name: group_1, dtype: int64"
      ]
     },
     "execution_count": 30,
     "metadata": {},
     "output_type": "execute_result"
    }
   ],
   "source": [
    "people['group_1'] = people['group_1'].apply(\n",
    "    lambda g: int(g[g.find(' ')+1:])).astype(int)\n",
    "people['group_1'].head()"
   ]
  },
  {
   "cell_type": "code",
   "execution_count": 31,
   "metadata": {
    "collapsed": false
   },
   "outputs": [],
   "source": [
    "train = pd.read_csv(\"../../../../Kaggle Data/Red Hat/Data/act_train.csv\", \n",
    "                   usecols=[\"people_id\",\"date\",\"outcome\"],\n",
    "                    parse_dates=['date'])\n",
    "test = pd.read_csv(\"../../../../Kaggle Data/Red Hat/Data/act_test.csv\",\n",
    "                  usecols = ['people_id','date'], parse_dates=['date'])\n"
   ]
  },
  {
   "cell_type": "code",
   "execution_count": 32,
   "metadata": {
    "collapsed": false
   },
   "outputs": [
    {
     "data": {
      "text/html": [
       "<div>\n",
       "<table border=\"1\" class=\"dataframe\">\n",
       "  <thead>\n",
       "    <tr style=\"text-align: right;\">\n",
       "      <th></th>\n",
       "      <th>people_id</th>\n",
       "      <th>date</th>\n",
       "      <th>outcome</th>\n",
       "    </tr>\n",
       "  </thead>\n",
       "  <tbody>\n",
       "    <tr>\n",
       "      <th>0</th>\n",
       "      <td>ppl_100</td>\n",
       "      <td>2023-08-26</td>\n",
       "      <td>0</td>\n",
       "    </tr>\n",
       "    <tr>\n",
       "      <th>1</th>\n",
       "      <td>ppl_100</td>\n",
       "      <td>2022-09-27</td>\n",
       "      <td>0</td>\n",
       "    </tr>\n",
       "    <tr>\n",
       "      <th>2</th>\n",
       "      <td>ppl_100</td>\n",
       "      <td>2022-09-27</td>\n",
       "      <td>0</td>\n",
       "    </tr>\n",
       "    <tr>\n",
       "      <th>3</th>\n",
       "      <td>ppl_100</td>\n",
       "      <td>2023-08-04</td>\n",
       "      <td>0</td>\n",
       "    </tr>\n",
       "    <tr>\n",
       "      <th>4</th>\n",
       "      <td>ppl_100</td>\n",
       "      <td>2023-08-26</td>\n",
       "      <td>0</td>\n",
       "    </tr>\n",
       "  </tbody>\n",
       "</table>\n",
       "</div>"
      ],
      "text/plain": [
       "  people_id       date  outcome\n",
       "0   ppl_100 2023-08-26        0\n",
       "1   ppl_100 2022-09-27        0\n",
       "2   ppl_100 2022-09-27        0\n",
       "3   ppl_100 2023-08-04        0\n",
       "4   ppl_100 2023-08-26        0"
      ]
     },
     "execution_count": 32,
     "metadata": {},
     "output_type": "execute_result"
    }
   ],
   "source": [
    "train.head()"
   ]
  },
  {
   "cell_type": "code",
   "execution_count": 33,
   "metadata": {
    "collapsed": false
   },
   "outputs": [
    {
     "data": {
      "text/html": [
       "<div>\n",
       "<table border=\"1\" class=\"dataframe\">\n",
       "  <thead>\n",
       "    <tr style=\"text-align: right;\">\n",
       "      <th></th>\n",
       "      <th>people_id</th>\n",
       "      <th>date</th>\n",
       "    </tr>\n",
       "  </thead>\n",
       "  <tbody>\n",
       "    <tr>\n",
       "      <th>0</th>\n",
       "      <td>ppl_100004</td>\n",
       "      <td>2022-07-20</td>\n",
       "    </tr>\n",
       "    <tr>\n",
       "      <th>1</th>\n",
       "      <td>ppl_100004</td>\n",
       "      <td>2022-07-20</td>\n",
       "    </tr>\n",
       "    <tr>\n",
       "      <th>2</th>\n",
       "      <td>ppl_10001</td>\n",
       "      <td>2022-10-14</td>\n",
       "    </tr>\n",
       "    <tr>\n",
       "      <th>3</th>\n",
       "      <td>ppl_10001</td>\n",
       "      <td>2022-11-27</td>\n",
       "    </tr>\n",
       "    <tr>\n",
       "      <th>4</th>\n",
       "      <td>ppl_10001</td>\n",
       "      <td>2022-10-15</td>\n",
       "    </tr>\n",
       "  </tbody>\n",
       "</table>\n",
       "</div>"
      ],
      "text/plain": [
       "    people_id       date\n",
       "0  ppl_100004 2022-07-20\n",
       "1  ppl_100004 2022-07-20\n",
       "2   ppl_10001 2022-10-14\n",
       "3   ppl_10001 2022-11-27\n",
       "4   ppl_10001 2022-10-15"
      ]
     },
     "execution_count": 33,
     "metadata": {},
     "output_type": "execute_result"
    }
   ],
   "source": [
    "test.head()"
   ]
  },
  {
   "cell_type": "code",
   "execution_count": 34,
   "metadata": {
    "collapsed": true
   },
   "outputs": [],
   "source": [
    "test['outcome'] = -1"
   ]
  },
  {
   "cell_type": "code",
   "execution_count": 35,
   "metadata": {
    "collapsed": true
   },
   "outputs": [],
   "source": [
    "combined = train.append(test)"
   ]
  },
  {
   "cell_type": "code",
   "execution_count": 36,
   "metadata": {
    "collapsed": false
   },
   "outputs": [],
   "source": [
    "epoch = combined.date.min()"
   ]
  },
  {
   "cell_type": "code",
   "execution_count": 37,
   "metadata": {
    "collapsed": true
   },
   "outputs": [],
   "source": [
    "combined['day_index'] = (combined['date'] - epoch)/np.timedelta64(1,'D')"
   ]
  },
  {
   "cell_type": "code",
   "execution_count": 38,
   "metadata": {
    "collapsed": false
   },
   "outputs": [
    {
     "data": {
      "text/html": [
       "<div>\n",
       "<table border=\"1\" class=\"dataframe\">\n",
       "  <thead>\n",
       "    <tr style=\"text-align: right;\">\n",
       "      <th></th>\n",
       "      <th>people_id</th>\n",
       "      <th>date</th>\n",
       "      <th>outcome</th>\n",
       "      <th>day_index</th>\n",
       "      <th>group_1</th>\n",
       "    </tr>\n",
       "  </thead>\n",
       "  <tbody>\n",
       "    <tr>\n",
       "      <th>1020629</th>\n",
       "      <td>ppl_272792</td>\n",
       "      <td>2022-11-27</td>\n",
       "      <td>0</td>\n",
       "      <td>133.0</td>\n",
       "      <td>1</td>\n",
       "    </tr>\n",
       "    <tr>\n",
       "      <th>1020628</th>\n",
       "      <td>ppl_272792</td>\n",
       "      <td>2022-11-27</td>\n",
       "      <td>0</td>\n",
       "      <td>133.0</td>\n",
       "      <td>1</td>\n",
       "    </tr>\n",
       "    <tr>\n",
       "      <th>2544741</th>\n",
       "      <td>ppl_349977</td>\n",
       "      <td>2023-02-17</td>\n",
       "      <td>-1</td>\n",
       "      <td>215.0</td>\n",
       "      <td>2</td>\n",
       "    </tr>\n",
       "    <tr>\n",
       "      <th>1551657</th>\n",
       "      <td>ppl_358554</td>\n",
       "      <td>2023-02-17</td>\n",
       "      <td>1</td>\n",
       "      <td>215.0</td>\n",
       "      <td>2</td>\n",
       "    </tr>\n",
       "    <tr>\n",
       "      <th>1551656</th>\n",
       "      <td>ppl_358554</td>\n",
       "      <td>2023-02-02</td>\n",
       "      <td>1</td>\n",
       "      <td>200.0</td>\n",
       "      <td>2</td>\n",
       "    </tr>\n",
       "    <tr>\n",
       "      <th>1130968</th>\n",
       "      <td>ppl_292893</td>\n",
       "      <td>2022-12-28</td>\n",
       "      <td>1</td>\n",
       "      <td>164.0</td>\n",
       "      <td>2</td>\n",
       "    </tr>\n",
       "    <tr>\n",
       "      <th>1551655</th>\n",
       "      <td>ppl_358554</td>\n",
       "      <td>2023-02-02</td>\n",
       "      <td>1</td>\n",
       "      <td>200.0</td>\n",
       "      <td>2</td>\n",
       "    </tr>\n",
       "    <tr>\n",
       "      <th>2544750</th>\n",
       "      <td>ppl_349977</td>\n",
       "      <td>2023-01-25</td>\n",
       "      <td>-1</td>\n",
       "      <td>192.0</td>\n",
       "      <td>2</td>\n",
       "    </tr>\n",
       "    <tr>\n",
       "      <th>1130969</th>\n",
       "      <td>ppl_292893</td>\n",
       "      <td>2022-09-30</td>\n",
       "      <td>1</td>\n",
       "      <td>75.0</td>\n",
       "      <td>2</td>\n",
       "    </tr>\n",
       "    <tr>\n",
       "      <th>1130970</th>\n",
       "      <td>ppl_292893</td>\n",
       "      <td>2022-10-01</td>\n",
       "      <td>1</td>\n",
       "      <td>76.0</td>\n",
       "      <td>2</td>\n",
       "    </tr>\n",
       "  </tbody>\n",
       "</table>\n",
       "</div>"
      ],
      "text/plain": [
       "          people_id       date  outcome  day_index  group_1\n",
       "1020629  ppl_272792 2022-11-27        0      133.0        1\n",
       "1020628  ppl_272792 2022-11-27        0      133.0        1\n",
       "2544741  ppl_349977 2023-02-17       -1      215.0        2\n",
       "1551657  ppl_358554 2023-02-17        1      215.0        2\n",
       "1551656  ppl_358554 2023-02-02        1      200.0        2\n",
       "1130968  ppl_292893 2022-12-28        1      164.0        2\n",
       "1551655  ppl_358554 2023-02-02        1      200.0        2\n",
       "2544750  ppl_349977 2023-01-25       -1      192.0        2\n",
       "1130969  ppl_292893 2022-09-30        1       75.0        2\n",
       "1130970  ppl_292893 2022-10-01        1       76.0        2"
      ]
     },
     "execution_count": 38,
     "metadata": {},
     "output_type": "execute_result"
    }
   ],
   "source": [
    "combined = pd.merge(combined,people,on='people_id',how='left')\n",
    "combined = combined.sort_values('group_1')\n",
    "combined.head(10)"
   ]
  },
  {
   "cell_type": "code",
   "execution_count": 40,
   "metadata": {
    "collapsed": false
   },
   "outputs": [],
   "source": [
    "def generatePixelPlot(df,name):\n",
    "    print('creating', name)\n",
    "    rows, cols, data = [], [], []\n",
    "    groupIndex = -1\n",
    "    prev = -1\n",
    "    gb = df.groupby(['group_1', 'day_index'])\n",
    "    for key, df in gb:\n",
    "        if key[0]!=prev:\n",
    "            prev = key[0]\n",
    "            groupIndex += 1\n",
    "        rows.append(groupIndex)\n",
    "        cols.append(int(key[1]))\n",
    "        data.append(df.outcome.max()+2)\n",
    "    m = csr_matrix((data, (rows,cols)), dtype=np.int8)\n",
    "    codes = m.toarray()\n",
    "    full = np.zeros((m.shape[0], m.shape[1], 3),dtype=np.int8)\n",
    "    full[...,0] = codes == 3\n",
    "    full[...,2] = codes == 2\n",
    "    \n",
    "    imsave(name,full)\n",
    "    "
   ]
  },
  {
   "cell_type": "code",
   "execution_count": 41,
   "metadata": {
    "collapsed": false
   },
   "outputs": [
    {
     "name": "stdout",
     "output_type": "stream",
     "text": [
      "creating groups_00001_to_02420.png\n",
      "creating groups_02421_to_05178.png\n",
      "creating groups_05179_to_07952.png\n",
      "creating groups_07953_to_10946.png\n",
      "creating groups_10948_to_14111.png\n",
      "creating groups_14113_to_17306.png\n",
      "creating groups_17307_to_19897.png\n",
      "creating groups_19898_to_22602.png\n",
      "creating groups_22603_to_25410.png\n",
      "creating groups_25411_to_28348.png\n",
      "creating groups_28350_to_31348.png\n",
      "creating groups_31350_to_34586.png\n",
      "creating groups_34588_to_37742.png\n",
      "creating groups_37743_to_40955.png\n",
      "creating groups_40956_to_44220.png\n",
      "creating groups_44222_to_47628.png\n",
      "creating groups_47629_to_51077.png\n",
      "creating groups_51080_to_51462.png\n",
      "#switchers: 4253\n",
      "creating switcher_groups.png\n"
     ]
    }
   ],
   "source": [
    "groups = combined.group_1.unique()\n",
    "offset = 0\n",
    "count = 2000\n",
    "while offset < len(groups):\n",
    "    sub = groups[offset:offset + count]\n",
    "    generatePixelPlot(combined.ix[combined.group_1.isin(sub)],\n",
    "                      'groups_%05d_to_%05d.png' %(sub.min(),sub.max()))\n",
    "    offset += count\n",
    "\n",
    "gb = combined.groupby('group_1')\n",
    "switchers = gb.outcome.apply(lambda x: 0 in x.values and 1 in x.values)\n",
    "groups = set(switchers.ix[switchers].index)\n",
    "print('#switchers:',len(groups))\n",
    "generatePixelPlot(combined.ix[combined.group_1.isin(groups)],'switcher_groups.png')"
   ]
  },
  {
   "cell_type": "code",
   "execution_count": null,
   "metadata": {
    "collapsed": true
   },
   "outputs": [],
   "source": []
  }
 ],
 "metadata": {
  "kernelspec": {
   "display_name": "Python [Root]",
   "language": "python",
   "name": "Python [Root]"
  },
  "language_info": {
   "codemirror_mode": {
    "name": "ipython",
    "version": 3
   },
   "file_extension": ".py",
   "mimetype": "text/x-python",
   "name": "python",
   "nbconvert_exporter": "python",
   "pygments_lexer": "ipython3",
   "version": "3.5.2"
  }
 },
 "nbformat": 4,
 "nbformat_minor": 0
}
